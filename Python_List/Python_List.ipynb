{
 "cells": [
  {
   "cell_type": "markdown",
   "id": "f3e0d010-d0b8-4887-9ff4-f53b2f1f345a",
   "metadata": {},
   "source": [
    "# Python lists"
   ]
  },
  {
   "cell_type": "markdown",
   "id": "1931e226-b779-497f-943a-aa27f46b445f",
   "metadata": {},
   "source": [
    "## 1.Python collection (Arrays)"
   ]
  },
  {
   "cell_type": "markdown",
   "id": "13ac8fa7-3e3b-4952-9119-8e2b6822f748",
   "metadata": {},
   "source": [
    "- There are four collection data types in the python programming language:\n",
    "- 1. list - List is a collection which is ordered and changeable.Allows duplicates members.\n",
    "- 2. Tuple - Tuple is a collection which is ordered and unchangeable. Allows duplicates member.\n",
    "- 3. Set - Set is a collection which is unorderd and unidexed. No duplicates members.\n",
    "- 4. Dictionary - Dictionary is a collection which is unordered, changeable and indexed . no duplicate members.\n",
    "- When choosing a collection type, it is useful to understand the properties of eachtype. Choosing the right type for a particular dataset could mean retention of meaning, and it could mean increase in efficiency and security."
   ]
  },
  {
   "cell_type": "markdown",
   "id": "69d53a42-a9db-4227-9eca-eebd69fb3cef",
   "metadata": {},
   "source": [
    "## 2. List"
   ]
  },
  {
   "cell_type": "markdown",
   "id": "76ff9741-5e7b-435c-889e-a76ff2c750de",
   "metadata": {},
   "source": [
    "- A list is a collection which is ordered and changeable.\n",
    "- in python lists are writen with square brakets."
   ]
  },
  {
   "cell_type": "code",
   "execution_count": 2,
   "id": "229e5b1c-25bd-4a83-bf1a-81d5cd5ab75d",
   "metadata": {},
   "outputs": [
    {
     "data": {
      "text/plain": [
       "['charles', 'munyua', 'lucy', 'kelvin']"
      ]
     },
     "execution_count": 2,
     "metadata": {},
     "output_type": "execute_result"
    }
   ],
   "source": [
    "#Creating a list\n",
    "Names = ['charles','munyua','lucy','kelvin']\n",
    "Names"
   ]
  },
  {
   "cell_type": "markdown",
   "id": "5c1d6571-ab2d-4f74-ab93-0ed75417ed59",
   "metadata": {},
   "source": [
    "## 2.1 Accessing items in a list \n",
    "\n",
    "- you can aaccess items in a list by refering to the index of the number."
   ]
  },
  {
   "cell_type": "code",
   "execution_count": 3,
   "id": "36735693-f4cb-439a-85e4-f765dece2ac7",
   "metadata": {},
   "outputs": [
    {
     "data": {
      "text/plain": [
       "'munyua'"
      ]
     },
     "execution_count": 3,
     "metadata": {},
     "output_type": "execute_result"
    }
   ],
   "source": [
    "# print the second item of the list\n",
    "Names = ['charles','munyua','lucy','kelvin']\n",
    "Names[1]"
   ]
  },
  {
   "cell_type": "markdown",
   "id": "e504f7c1-0703-4a6a-894a-51f1972d547b",
   "metadata": {},
   "source": [
    "## 2.2 Negative indexing\n",
    "\n",
    "- Negative indexing means beginning from the end , -1 refer to the last item ,-2 refer to the second last item etc.\n"
   ]
  },
  {
   "cell_type": "code",
   "execution_count": 4,
   "id": "d0156b6d-0437-4f17-93e4-791d25ce1da7",
   "metadata": {},
   "outputs": [
    {
     "data": {
      "text/plain": [
       "'kelvin'"
      ]
     },
     "execution_count": 4,
     "metadata": {},
     "output_type": "execute_result"
    }
   ],
   "source": [
    "Names = ['charles','munyua','lucy','kelvin']\n",
    "Names[-1]"
   ]
  },
  {
   "cell_type": "markdown",
   "id": "13fcf5fd-8329-4473-aab0-836b8f5261ab",
   "metadata": {},
   "source": [
    "## 2.3 Range of indexes\n",
    "\n",
    "- You can specify a range of indexes by specifing where to start and where to end in a range.\n",
    "- When specifying a range, the return value will be a new list with the specified items.\n",
    "- NOTE: The search will start at index 2 ( included ) and end at index 5 ( not included )\n",
    "- Always remember that the first item has index 0."
   ]
  },
  {
   "cell_type": "code",
   "execution_count": 6,
   "id": "89fab180-ebc6-44be-8e2e-742314e61b29",
   "metadata": {},
   "outputs": [
    {
     "data": {
      "text/plain": [
       "['lucy', 'kelvin', 'njeri']"
      ]
     },
     "execution_count": 6,
     "metadata": {},
     "output_type": "execute_result"
    }
   ],
   "source": [
    "# return the third,fouth and fifth item in a list.\n",
    "Names = ['charles','munyua','lucy','kelvin','njeri','nduta','mercy']\n",
    "Names[2:5]\n"
   ]
  },
  {
   "cell_type": "markdown",
   "id": "266d9770-ac5e-45e7-b5b8-30c80123e73d",
   "metadata": {},
   "source": [
    "## 2.4 Leave out the start value \n",
    "\n",
    "- Remmember that the first item has index 0.\n",
    "- By leaving out the start value, the range will start from the first item."
   ]
  },
  {
   "cell_type": "code",
   "execution_count": 7,
   "id": "3e190929-7b1f-4192-a589-e3ba8a9ec263",
   "metadata": {},
   "outputs": [
    {
     "data": {
      "text/plain": [
       "['charles', 'munyua', 'lucy', 'kelvin', 'njeri']"
      ]
     },
     "execution_count": 7,
     "metadata": {},
     "output_type": "execute_result"
    }
   ],
   "source": [
    "Names = ['charles','munyua','lucy','kelvin','njeri','nduta','mercy']\n",
    "Names[:5]"
   ]
  },
  {
   "cell_type": "markdown",
   "id": "57d21c82-e4bb-4798-b14f-d429faf8ec9d",
   "metadata": {},
   "source": [
    "## 2.5 Leave out the end value \n",
    "\n",
    "- By leaving out the end value, the range will go on to the end of the list."
   ]
  },
  {
   "cell_type": "code",
   "execution_count": 8,
   "id": "26e3f28b-e10d-407a-82bd-5eb357d3e56a",
   "metadata": {},
   "outputs": [
    {
     "data": {
      "text/plain": [
       "['munyua', 'lucy', 'kelvin', 'njeri', 'nduta', 'mercy']"
      ]
     },
     "execution_count": 8,
     "metadata": {},
     "output_type": "execute_result"
    }
   ],
   "source": [
    "Names = ['charles','munyua','lucy','kelvin','njeri','nduta','mercy']\n",
    "Names[1:]"
   ]
  },
  {
   "cell_type": "markdown",
   "id": "0136bbd0-9801-47ce-b72f-852d1e8a07ac",
   "metadata": {},
   "source": [
    "## 2.6 Range of  Negative indexes\n",
    "- specify negative indexes if you want to start the search from the end of the list.\n"
   ]
  },
  {
   "cell_type": "code",
   "execution_count": 10,
   "id": "68218101-7134-433b-93d6-76d622358ae5",
   "metadata": {},
   "outputs": [
    {
     "data": {
      "text/plain": [
       "['kelvin', 'njeri', 'nduta']"
      ]
     },
     "execution_count": 10,
     "metadata": {},
     "output_type": "execute_result"
    }
   ],
   "source": [
    "Names = ['charles','munyua','lucy','kelvin','njeri','nduta','mercy']\n",
    "Names [-4:-1]"
   ]
  },
  {
   "cell_type": "markdown",
   "id": "fb0afc7d-2eb4-4453-b5e2-049d84484c7d",
   "metadata": {},
   "source": [
    "## 3. Change List item Value"
   ]
  },
  {
   "cell_type": "code",
   "execution_count": 13,
   "id": "7c4d3ae8-41ed-436c-ab0a-c86596d65977",
   "metadata": {},
   "outputs": [],
   "source": [
    "Names = ['charles','munyua','lucy','kelvin','njeri','nduta','mercy']\n",
    "Names[0]='Gachanja'"
   ]
  },
  {
   "cell_type": "code",
   "execution_count": 14,
   "id": "5bacd8ba-6238-4df9-9b7e-c9333d1f912b",
   "metadata": {},
   "outputs": [
    {
     "data": {
      "text/plain": [
       "['Gachanja', 'munyua', 'lucy', 'kelvin', 'njeri', 'nduta', 'mercy']"
      ]
     },
     "execution_count": 14,
     "metadata": {},
     "output_type": "execute_result"
    }
   ],
   "source": [
    "Names"
   ]
  },
  {
   "cell_type": "markdown",
   "id": "e03ce271-ba3b-4df7-b077-7b358f59ee4c",
   "metadata": {},
   "source": [
    "## 4.Looping Though a List"
   ]
  },
  {
   "cell_type": "code",
   "execution_count": 16,
   "id": "af0e59d3-86d4-421c-8cbd-9669b9cb435e",
   "metadata": {},
   "outputs": [
    {
     "name": "stdout",
     "output_type": "stream",
     "text": [
      "charles\n",
      "munyua\n",
      "lucy\n",
      "kelvin\n",
      "njeri\n",
      "nduta\n",
      "mercy\n"
     ]
    }
   ],
   "source": [
    "Names = ['charles','munyua','lucy','kelvin','njeri','nduta','mercy']\n",
    "for i in Names:\n",
    "    print (i)"
   ]
  },
  {
   "cell_type": "markdown",
   "id": "8a8e20d2-d446-4e47-bf47-eb103a44249e",
   "metadata": {},
   "source": [
    "## 6.Cheak if Item Exits\n",
    "- To determine if a special item is present in a list use the 'in' keyword"
   ]
  },
  {
   "cell_type": "code",
   "execution_count": 23,
   "id": "f8e950eb-fa5f-4261-88fd-93034efcd07a",
   "metadata": {},
   "outputs": [
    {
     "name": "stdout",
     "output_type": "stream",
     "text": [
      "Yes,'Charles' is in the Names list\n"
     ]
    }
   ],
   "source": [
    "Names = ['charles','munyua','lucy','kelvin','njeri','nduta','mercy']\n",
    "if 'charles' in Names:\n",
    "    print(\"Yes,'Charles' is in the Names list\")\n",
    "else:\n",
    "    print(\"No, 'Charles' is no where to be found in the list\")"
   ]
  },
  {
   "cell_type": "markdown",
   "id": "b8e69347-03f0-4dc8-ae85-8e7939a57719",
   "metadata": {},
   "source": [
    "## 7. Add items\n",
    "## 7.1 append() Method\n",
    "- To add an item to the end of the list we use the append() method"
   ]
  },
  {
   "cell_type": "code",
   "execution_count": 25,
   "id": "9b3169c4-e139-49e5-b20b-e706a80de56f",
   "metadata": {},
   "outputs": [
    {
     "data": {
      "text/plain": [
       "['charles', 'munyua', 'lucy', 'kelvin', 'njeri', 'nduta', 'mercy', 'Mary']"
      ]
     },
     "execution_count": 25,
     "metadata": {},
     "output_type": "execute_result"
    }
   ],
   "source": [
    "Names = ['charles','munyua','lucy','kelvin','njeri','nduta','mercy']\n",
    "Names.append('Mary')\n",
    "Names"
   ]
  },
  {
   "cell_type": "markdown",
   "id": "fa220bc1-e060-4cef-afef-198251ee9a41",
   "metadata": {},
   "source": [
    "## 7.2 insert() Method\n",
    "- To add an item at a specified index we use the insert() method."
   ]
  },
  {
   "cell_type": "code",
   "execution_count": 30,
   "id": "73dd65ce-0e97-4e85-8d28-8c38eb92e07b",
   "metadata": {},
   "outputs": [
    {
     "data": {
      "text/plain": [
       "['charles', 'munyua', 'moses', 'lucy', 'kelvin', 'njeri', 'nduta', 'mercy']"
      ]
     },
     "execution_count": 30,
     "metadata": {},
     "output_type": "execute_result"
    }
   ],
   "source": [
    "Names = ['charles','munyua','lucy','kelvin','njeri','nduta','mercy']\n",
    "Names.insert(2,'moses')\n",
    "Names"
   ]
  },
  {
   "cell_type": "markdown",
   "id": "a0e081f9-fc33-4925-a658-a8570437f8cf",
   "metadata": {},
   "source": [
    "## 8. Remove item \n",
    "\n",
    "## 8.1 Remove () Method\n",
    "- To remove an item we use the remove method"
   ]
  },
  {
   "cell_type": "code",
   "execution_count": 31,
   "id": "93e730d1-3e85-4771-a033-d3623122ffd1",
   "metadata": {},
   "outputs": [
    {
     "data": {
      "text/plain": [
       "['munyua', 'lucy', 'kelvin', 'njeri', 'nduta', 'mercy']"
      ]
     },
     "execution_count": 31,
     "metadata": {},
     "output_type": "execute_result"
    }
   ],
   "source": [
    "Names = ['charles','munyua','lucy','kelvin','njeri','nduta','mercy']\n",
    "Names.remove('charles')\n",
    "Names"
   ]
  },
  {
   "cell_type": "markdown",
   "id": "be7588f0-e0d9-48ba-8ca1-889747514832",
   "metadata": {},
   "source": [
    "## 8.2 pop () Method\n",
    "- The pop() method removes the specified index, or the last item if index is not specified."
   ]
  },
  {
   "cell_type": "code",
   "execution_count": 33,
   "id": "97b6b9d7-8c40-493d-bb72-83bbbb7b783d",
   "metadata": {},
   "outputs": [
    {
     "data": {
      "text/plain": [
       "['charles', 'munyua', 'lucy', 'kelvin', 'njeri', 'nduta']"
      ]
     },
     "execution_count": 33,
     "metadata": {},
     "output_type": "execute_result"
    }
   ],
   "source": [
    "Names = ['charles','munyua','lucy','kelvin','njeri','nduta','mercy']\n",
    "Names.pop()\n",
    "Names"
   ]
  },
  {
   "cell_type": "markdown",
   "id": "9ee8ce03-87a4-4e5a-b313-7e29143b45d9",
   "metadata": {},
   "source": [
    "## 8.3 del keyword\n",
    "\n",
    "- The del keyword removes the specified index.\n"
   ]
  },
  {
   "cell_type": "code",
   "execution_count": 35,
   "id": "113d5d7b-e927-4353-a908-8d3723e7211c",
   "metadata": {},
   "outputs": [
    {
     "data": {
      "text/plain": [
       "['munyua', 'lucy', 'kelvin', 'njeri', 'nduta', 'mercy']"
      ]
     },
     "execution_count": 35,
     "metadata": {},
     "output_type": "execute_result"
    }
   ],
   "source": [
    "Names = ['charles','munyua','lucy','kelvin','njeri','nduta','mercy']\n",
    "del Names[0]\n",
    "Names"
   ]
  },
  {
   "cell_type": "markdown",
   "id": "378fb8f7-2b04-47ee-9bbf-049cf1d42a13",
   "metadata": {},
   "source": [
    "## 8.4 del Keyword\n",
    "\n",
    "- it deletes the list completely "
   ]
  },
  {
   "cell_type": "code",
   "execution_count": 40,
   "id": "68853c19-24d3-4939-a3fb-66cb2c933457",
   "metadata": {},
   "outputs": [
    {
     "ename": "NameError",
     "evalue": "name 'Names' is not defined",
     "output_type": "error",
     "traceback": [
      "\u001b[1;31m---------------------------------------------------------------------------\u001b[0m",
      "\u001b[1;31mNameError\u001b[0m                                 Traceback (most recent call last)",
      "Cell \u001b[1;32mIn[40], line 3\u001b[0m\n\u001b[0;32m      1\u001b[0m Names \u001b[38;5;241m=\u001b[39m [\u001b[38;5;124m'\u001b[39m\u001b[38;5;124mcharles\u001b[39m\u001b[38;5;124m'\u001b[39m,\u001b[38;5;124m'\u001b[39m\u001b[38;5;124mmunyua\u001b[39m\u001b[38;5;124m'\u001b[39m,\u001b[38;5;124m'\u001b[39m\u001b[38;5;124mlucy\u001b[39m\u001b[38;5;124m'\u001b[39m,\u001b[38;5;124m'\u001b[39m\u001b[38;5;124mkelvin\u001b[39m\u001b[38;5;124m'\u001b[39m,\u001b[38;5;124m'\u001b[39m\u001b[38;5;124mnjeri\u001b[39m\u001b[38;5;124m'\u001b[39m,\u001b[38;5;124m'\u001b[39m\u001b[38;5;124mnduta\u001b[39m\u001b[38;5;124m'\u001b[39m,\u001b[38;5;124m'\u001b[39m\u001b[38;5;124mmercy\u001b[39m\u001b[38;5;124m'\u001b[39m]\n\u001b[0;32m      2\u001b[0m \u001b[38;5;28;01mdel\u001b[39;00m Names\n\u001b[1;32m----> 3\u001b[0m Names\n",
      "\u001b[1;31mNameError\u001b[0m: name 'Names' is not defined"
     ]
    }
   ],
   "source": [
    "Names = ['charles','munyua','lucy','kelvin','njeri','nduta','mercy']\n",
    "del Names\n",
    "Names"
   ]
  },
  {
   "cell_type": "markdown",
   "id": "c7cd6fbc-4896-42c6-8bed-147eeff07eab",
   "metadata": {},
   "source": [
    "## 8.5 Clear() Method\n",
    "\n",
    "- The clear() method empties the list."
   ]
  },
  {
   "cell_type": "code",
   "execution_count": 43,
   "id": "384ba5ef-5a5e-4aef-9f9c-1192ce1e22e9",
   "metadata": {},
   "outputs": [
    {
     "data": {
      "text/plain": [
       "[]"
      ]
     },
     "execution_count": 43,
     "metadata": {},
     "output_type": "execute_result"
    }
   ],
   "source": [
    "Names = ['charles','munyua','lucy','kelvin','njeri','nduta','mercy']\n",
    "Names.clear()\n",
    "Names"
   ]
  },
  {
   "cell_type": "markdown",
   "id": "83f34b5b-6862-4a85-b56e-d9f8dc7ba499",
   "metadata": {},
   "source": [
    "## 9. Copy a list \n",
    "- You cannot copy a list simply by typing list 2 == list 1\n",
    "- Because list 2 will only be a reference to list 1, and changes made in list 1 will automatically also be made in list 2"
   ]
  },
  {
   "cell_type": "markdown",
   "id": "dababb89-3147-4eba-894d-367eeeb1ed36",
   "metadata": {},
   "source": [
    "## 9.1 Copy() Method\n",
    "- We can use the copy method to make a copy of a list.\n"
   ]
  },
  {
   "cell_type": "code",
   "execution_count": 44,
   "id": "8da89f7f-9798-4b33-8f99-cd79e743bdd6",
   "metadata": {},
   "outputs": [],
   "source": [
    "Names = ['charles','munyua','lucy','kelvin','njeri','nduta','mercy']\n",
    "mylist=Names.copy()"
   ]
  },
  {
   "cell_type": "code",
   "execution_count": 45,
   "id": "b68edfd9-b759-40e1-ba13-59d8f79bbde7",
   "metadata": {},
   "outputs": [
    {
     "data": {
      "text/plain": [
       "['charles', 'munyua', 'lucy', 'kelvin', 'njeri', 'nduta', 'mercy']"
      ]
     },
     "execution_count": 45,
     "metadata": {},
     "output_type": "execute_result"
    }
   ],
   "source": [
    "mylist"
   ]
  },
  {
   "cell_type": "markdown",
   "id": "4180ac84-63f0-4bd5-a597-c7e36e0be3cf",
   "metadata": {},
   "source": [
    "## 9.2 Built in method list()\n",
    "- Another way to make a copy is to use the built in method list()."
   ]
  },
  {
   "cell_type": "code",
   "execution_count": 46,
   "id": "80fd05b1-498b-42a5-978b-f3a043ae2937",
   "metadata": {},
   "outputs": [
    {
     "data": {
      "text/plain": [
       "['charles', 'munyua', 'lucy', 'kelvin', 'njeri', 'nduta', 'mercy']"
      ]
     },
     "execution_count": 46,
     "metadata": {},
     "output_type": "execute_result"
    }
   ],
   "source": [
    "Names = ['charles','munyua','lucy','kelvin','njeri','nduta','mercy']\n",
    "mylist=list(Names)\n",
    "mylist"
   ]
  },
  {
   "cell_type": "markdown",
   "id": "8f577e53-d2ba-44a2-b534-4d240e961970",
   "metadata": {},
   "source": [
    "## 10. Join Two lists \n",
    "- There are several ways to join or concatenate,two or more lists in python.\n",
    "\n",
    "\n",
    "10.1    + Operator\n",
    "-"
   ]
  },
  {
   "cell_type": "code",
   "execution_count": 49,
   "id": "caa4b223-f764-41fd-b87c-44c1bbbea149",
   "metadata": {},
   "outputs": [],
   "source": [
    "list1 = ['charles','munyua','lucy']\n",
    "list2 = ['charles','njeri','nduta','mercy']\n",
    "list3=list1+list2"
   ]
  },
  {
   "cell_type": "code",
   "execution_count": 50,
   "id": "2a436290-1135-4b8d-9b5f-1fe73d764b4d",
   "metadata": {},
   "outputs": [
    {
     "data": {
      "text/plain": [
       "['charles', 'munyua', 'lucy', 'charles', 'njeri', 'nduta', 'mercy']"
      ]
     },
     "execution_count": 50,
     "metadata": {},
     "output_type": "execute_result"
    }
   ],
   "source": [
    "list3"
   ]
  },
  {
   "cell_type": "markdown",
   "id": "aef9f02e-d67e-4c39-bfe8-41c6d8b86922",
   "metadata": {},
   "source": [
    "## 10.2 Join two list by appending them"
   ]
  },
  {
   "cell_type": "code",
   "execution_count": 51,
   "id": "8f1e509e-d151-46a4-9df2-d9ced5b4d07a",
   "metadata": {},
   "outputs": [],
   "source": [
    "list1 = ['charles','munyua','lucy']\n",
    "list2 = ['charles','njeri','nduta','mercy']\n",
    "for i in list2:\n",
    "    list1.append(i)"
   ]
  },
  {
   "cell_type": "code",
   "execution_count": 52,
   "id": "48cb8843-34a9-4e71-aa2c-df97a8183709",
   "metadata": {},
   "outputs": [
    {
     "data": {
      "text/plain": [
       "['charles', 'munyua', 'lucy', 'charles', 'njeri', 'nduta', 'mercy']"
      ]
     },
     "execution_count": 52,
     "metadata": {},
     "output_type": "execute_result"
    }
   ],
   "source": [
    "list1"
   ]
  },
  {
   "cell_type": "markdown",
   "id": "a42c8c79-7c0d-48e2-a688-0ecef35f1d1a",
   "metadata": {},
   "source": [
    "## 10.3 extend() method\n",
    "\n",
    "- we use the extend() method to add list2 at the end of list1. "
   ]
  },
  {
   "cell_type": "code",
   "execution_count": 53,
   "id": "ef7ef9cb-0353-40c9-ba61-7f16d0aae5f4",
   "metadata": {},
   "outputs": [
    {
     "data": {
      "text/plain": [
       "['charles', 'munyua', 'lucy', 'charles', 'njeri', 'nduta', 'mercy']"
      ]
     },
     "execution_count": 53,
     "metadata": {},
     "output_type": "execute_result"
    }
   ],
   "source": [
    "list1 = ['charles','munyua','lucy']\n",
    "list2 = ['charles','njeri','nduta','mercy']\n",
    "list1.extend(list2)\n",
    "list1"
   ]
  },
  {
   "cell_type": "code",
   "execution_count": null,
   "id": "543cb931-8ea0-4672-831c-488fb577e0c1",
   "metadata": {},
   "outputs": [],
   "source": []
  }
 ],
 "metadata": {
  "kernelspec": {
   "display_name": "Python [conda env:base] *",
   "language": "python",
   "name": "conda-base-py"
  },
  "language_info": {
   "codemirror_mode": {
    "name": "ipython",
    "version": 3
   },
   "file_extension": ".py",
   "mimetype": "text/x-python",
   "name": "python",
   "nbconvert_exporter": "python",
   "pygments_lexer": "ipython3",
   "version": "3.12.7"
  }
 },
 "nbformat": 4,
 "nbformat_minor": 5
}
