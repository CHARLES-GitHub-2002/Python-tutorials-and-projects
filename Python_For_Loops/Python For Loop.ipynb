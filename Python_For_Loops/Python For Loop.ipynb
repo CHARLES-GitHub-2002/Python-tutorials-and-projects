{
 "cells": [
  {
   "cell_type": "markdown",
   "id": "87b59e20-8ff1-418e-a894-bf17ecda8dc8",
   "metadata": {},
   "source": [
    "# Python For Loop"
   ]
  },
  {
   "cell_type": "markdown",
   "id": "51bbd3ee-a842-4518-9334-3c8692d9e7fe",
   "metadata": {},
   "source": [
    "## 1. Python For Loops"
   ]
  },
  {
   "cell_type": "markdown",
   "id": "aadedacc-c0d1-4a57-aeea-681d8c0e33ac",
   "metadata": {},
   "source": [
    "- A loop is used  to iterating over a sequence (that is either a list,a tuple, a dictionary, a set or a string).\n",
    "- With the for loop we can execute a set of statments, once for each item in a list,tuple,set etc."
   ]
  },
  {
   "cell_type": "code",
   "execution_count": 1,
   "id": "bb7ec274-4548-4223-9749-0ceea9b13d88",
   "metadata": {},
   "outputs": [
    {
     "name": "stdout",
     "output_type": "stream",
     "text": [
      "apple\n",
      "banana\n",
      "orange\n"
     ]
    }
   ],
   "source": [
    "# example printing each of the fruits in a fruit list:\n",
    "fruits=['apple','banana','orange']\n",
    "for i in fruits:\n",
    "    print(i)"
   ]
  },
  {
   "cell_type": "markdown",
   "id": "ba083094-add0-4122-8796-c3f17fea1a9d",
   "metadata": {},
   "source": [
    "## 2. Looping Through a String"
   ]
  },
  {
   "cell_type": "markdown",
   "id": "5707c1c8-4391-4c8d-929d-8ed9423458c4",
   "metadata": {},
   "source": [
    "- Even string are itersble objects, they contain a sequence of characters:"
   ]
  },
  {
   "cell_type": "code",
   "execution_count": 2,
   "id": "28ea4ffe-8fd9-449e-b293-99e3bae64749",
   "metadata": {},
   "outputs": [
    {
     "name": "stdout",
     "output_type": "stream",
     "text": [
      "C\n",
      "H\n",
      "A\n",
      "R\n",
      "L\n",
      "E\n",
      "S\n"
     ]
    }
   ],
   "source": [
    "# Example - looping though the letters in the word charles\n",
    "for i in 'CHARLES':\n",
    "    print(i)"
   ]
  },
  {
   "cell_type": "markdown",
   "id": "f7cbf9f6-d1f5-427c-b8c3-0180687e10da",
   "metadata": {},
   "source": [
    "## 3. The break Statement "
   ]
  },
  {
   "cell_type": "markdown",
   "id": "13f54fa3-09bb-49b1-8ceb-74e9bb3cc926",
   "metadata": {},
   "source": [
    "- With the break statment we can stop the loop before it has looped through all the items:"
   ]
  },
  {
   "cell_type": "code",
   "execution_count": 3,
   "id": "29a0c21b-66fe-4c96-9903-f944ee79336b",
   "metadata": {},
   "outputs": [
    {
     "name": "stdout",
     "output_type": "stream",
     "text": [
      "apple\n",
      "banana\n"
     ]
    }
   ],
   "source": [
    "# Example Exit a loop when i is 'banana'\n",
    "fruits=['apple','banana','orange']\n",
    "for i in fruits:\n",
    "    print(i)\n",
    "    if i == 'banana':\n",
    "        break"
   ]
  },
  {
   "cell_type": "code",
   "execution_count": 7,
   "id": "e28ecc7b-8645-43ad-8a6e-9b8cf736f688",
   "metadata": {},
   "outputs": [
    {
     "name": "stdout",
     "output_type": "stream",
     "text": [
      "apple\n"
     ]
    }
   ],
   "source": [
    "fruits=['apple','banana','orange']\n",
    "for i in fruits:\n",
    "    if i == 'banana': \n",
    "        break\n",
    "    print(i)"
   ]
  },
  {
   "cell_type": "markdown",
   "id": "a0a761f7-5988-43b0-bd89-d5f59e79f486",
   "metadata": {},
   "source": [
    "## 4. The continue statement"
   ]
  },
  {
   "cell_type": "markdown",
   "id": "98041d8d-697a-4a11-90d6-d28f803d03b5",
   "metadata": {},
   "source": [
    "- With the continue statment we can stop the current iteration of the loop, and continue with the next."
   ]
  },
  {
   "cell_type": "code",
   "execution_count": 9,
   "id": "963eba27-0099-4e4e-a601-650a49aa4a95",
   "metadata": {},
   "outputs": [
    {
     "name": "stdout",
     "output_type": "stream",
     "text": [
      "apple\n",
      "orange\n"
     ]
    }
   ],
   "source": [
    "# Example - do not print banana \n",
    "fruits=['apple','banana','orange']\n",
    "for i in fruits:\n",
    "    if i == 'banana':\n",
    "        continue \n",
    "    print(i)"
   ]
  },
  {
   "cell_type": "markdown",
   "id": "d50ae60f-f111-4e29-a19a-7f790c4d7cd3",
   "metadata": {},
   "source": [
    "## 5. The Range( ) Function "
   ]
  },
  {
   "cell_type": "markdown",
   "id": "c1eb31b4-7063-41b4-94e0-1182b812a654",
   "metadata": {},
   "source": [
    "- To loop though a set of code a specific number of times, we can use the range() function.\n",
    "- The range() function returns a sequence of numbers, starting from 0 by default and it is inclimented by 1 (by default) and it ends at a specific number."
   ]
  },
  {
   "cell_type": "code",
   "execution_count": 11,
   "id": "a45692e1-f75e-41e7-afac-78d2f593cff7",
   "metadata": {},
   "outputs": [
    {
     "name": "stdout",
     "output_type": "stream",
     "text": [
      "0\n",
      "1\n",
      "2\n",
      "3\n",
      "4\n",
      "5\n"
     ]
    }
   ],
   "source": [
    "# Example - using the range() function \n",
    "for i in range(6):\n",
    "    print(i)"
   ]
  },
  {
   "cell_type": "markdown",
   "id": "e49e0a34-7a00-418a-bf8d-400791e85b5d",
   "metadata": {},
   "source": [
    "- Note the range(6) is not the values 0 to 6, but 0 to 5.\n",
    "- The range function defaults to 0 as a starting value, however it is posssible to specify the starting value by adding a parameter .\n",
    "- range(2,6) which means values from 2 to 6 ( but not including 6)"
   ]
  },
  {
   "cell_type": "code",
   "execution_count": 12,
   "id": "91254874-61e1-4e92-b996-b44bb1159d35",
   "metadata": {},
   "outputs": [
    {
     "name": "stdout",
     "output_type": "stream",
     "text": [
      "2\n",
      "3\n",
      "4\n",
      "5\n"
     ]
    }
   ],
   "source": [
    "#Exaple - using a start parameter\n",
    "for i in range (2,6):\n",
    "    print(i)"
   ]
  },
  {
   "cell_type": "markdown",
   "id": "11da3411-06bf-4f87-8804-a6daa0dd15e0",
   "metadata": {},
   "source": [
    "- The range( ) function default to inclement the sequence by 1, however it is possible to specify the increment value by adding a third parameter.\n",
    "- range(2,30,3)"
   ]
  },
  {
   "cell_type": "code",
   "execution_count": 13,
   "id": "f85c2b5c-5078-4a96-bcff-57dc08f5ed29",
   "metadata": {},
   "outputs": [
    {
     "name": "stdout",
     "output_type": "stream",
     "text": [
      "2\n",
      "5\n",
      "8\n",
      "11\n",
      "14\n",
      "17\n",
      "20\n",
      "23\n",
      "26\n",
      "29\n"
     ]
    }
   ],
   "source": [
    "#Example increment the sequence with 3 \n",
    "for i in range(2,30,3):\n",
    "    print(i)"
   ]
  },
  {
   "cell_type": "markdown",
   "id": "dd98dfbf-5e4a-4d36-a582-7ad149532798",
   "metadata": {},
   "source": [
    "## 6. Else in for loop "
   ]
  },
  {
   "cell_type": "markdown",
   "id": "d07f58e4-0128-49af-91b7-accb86a5aaf0",
   "metadata": {},
   "source": [
    "- The else keyword in a for loop specifies a block of code to be executed when the loop is finished:"
   ]
  },
  {
   "cell_type": "code",
   "execution_count": 14,
   "id": "3d4aa710-b57b-4133-aae3-b0fb5dd1c588",
   "metadata": {},
   "outputs": [
    {
     "name": "stdout",
     "output_type": "stream",
     "text": [
      "0\n",
      "1\n",
      "2\n",
      "3\n",
      "4\n",
      "5\n",
      "Finally Finished the loop \n"
     ]
    }
   ],
   "source": [
    "# example- print all numbers from 0 to 5, and print a message when the loop has ended:\n",
    "for i in range(6):\n",
    "    print(i)\n",
    "else:\n",
    "    print('Finally Finished the loop ')"
   ]
  },
  {
   "cell_type": "markdown",
   "id": "6751b76d-158d-4ec0-9872-e4ba6065eb1b",
   "metadata": {},
   "source": [
    "## 7.Nested loops"
   ]
  },
  {
   "cell_type": "markdown",
   "id": "d1b9a350-311b-4195-807e-3e5a18f00bad",
   "metadata": {},
   "source": [
    "- A nested loop is a loop inside a loop.\n",
    "- The inner loop will be executed on the first time for each iteration of the outter loop."
   ]
  },
  {
   "cell_type": "code",
   "execution_count": 15,
   "id": "26a68f50-8586-42d6-9608-96572f3c0700",
   "metadata": {},
   "outputs": [
    {
     "name": "stdout",
     "output_type": "stream",
     "text": [
      "red apple\n",
      "red banana\n",
      "red orange\n",
      "big apple\n",
      "big banana\n",
      "big orange\n",
      "tasty apple\n",
      "tasty banana\n",
      "tasty orange\n"
     ]
    }
   ],
   "source": [
    "# Example - print each adjective for every fuits:\n",
    "adj=['red','big','tasty']\n",
    "fruits=['apple','banana','orange']\n",
    "for i in adj:\n",
    "    for x in fruits:\n",
    "        print(i,x)"
   ]
  },
  {
   "cell_type": "markdown",
   "id": "68b3cbc0-622d-4b39-b8af-87db0f607fe2",
   "metadata": {},
   "source": [
    "## 8.The pass Statement"
   ]
  },
  {
   "cell_type": "markdown",
   "id": "42d0e686-9af3-45b7-972c-0511ea8761c1",
   "metadata": {},
   "source": [
    "- For loops cannot be empty, but if you for some reason have a for loop with no content,put in the pass statment to avoid getting an error."
   ]
  },
  {
   "cell_type": "code",
   "execution_count": null,
   "id": "cf7ca4df-aeff-458f-9238-e4dd1c39f50f",
   "metadata": {},
   "outputs": [],
   "source": [
    "Exa"
   ]
  }
 ],
 "metadata": {
  "kernelspec": {
   "display_name": "Python [conda env:base] *",
   "language": "python",
   "name": "conda-base-py"
  },
  "language_info": {
   "codemirror_mode": {
    "name": "ipython",
    "version": 3
   },
   "file_extension": ".py",
   "mimetype": "text/x-python",
   "name": "python",
   "nbconvert_exporter": "python",
   "pygments_lexer": "ipython3",
   "version": "3.12.7"
  }
 },
 "nbformat": 4,
 "nbformat_minor": 5
}
